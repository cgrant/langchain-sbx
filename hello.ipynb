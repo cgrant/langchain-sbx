{
  "cells": [
    {
      "cell_type": "markdown",
      "source": [
        "# Colab & VSCode Workflows\n",
        "\n",
        "This workbook is testing the ability to use hosted colab as well as local vscode development both stored on github"
      ],
      "metadata": {
        "id": "U2a_3kP2dFKy"
      }
    },
    {
      "cell_type": "code",
      "execution_count": 1,
      "metadata": {
        "colab": {
          "base_uri": "https://localhost:8080/"
        },
        "id": "dpdww6CScSYq",
        "outputId": "37df295f-c9b7-46da-afc3-72da72a7872d"
      },
      "outputs": [
        {
          "output_type": "stream",
          "name": "stdout",
          "text": [
            "hello\n"
          ]
        }
      ],
      "source": [
        "print(\"hello\")"
      ]
    },
    {
      "cell_type": "code",
      "source": [
        "# prompt: 10 random numbers using numpy\n",
        "\n",
        "import numpy as np\n",
        "\n",
        "random_numbers = np.random.rand(10)\n",
        "random_numbers"
      ],
      "metadata": {
        "id": "G0GBse97cTbY"
      },
      "execution_count": null,
      "outputs": []
    }
  ],
  "metadata": {
    "kernelspec": {
      "display_name": ".venv",
      "language": "python",
      "name": "python3"
    },
    "language_info": {
      "codemirror_mode": {
        "name": "ipython",
        "version": 3
      },
      "file_extension": ".py",
      "mimetype": "text/x-python",
      "name": "python",
      "nbconvert_exporter": "python",
      "pygments_lexer": "ipython3",
      "version": "3.13.0"
    },
    "colab": {
      "provenance": []
    }
  },
  "nbformat": 4,
  "nbformat_minor": 0
}